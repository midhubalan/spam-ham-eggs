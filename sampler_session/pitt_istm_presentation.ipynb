{
 "cells": [
  {
   "cell_type": "markdown",
   "id": "67b78070",
   "metadata": {
    "slideshow": {
     "slide_type": "slide"
    }
   },
   "source": [
    "# Functions\n",
    "- Topic 1\n",
    "- Topic 2\n",
    "    - subtopic 1"
   ]
  },
  {
   "cell_type": "markdown",
   "id": "a3c46cb8",
   "metadata": {
    "slideshow": {
     "slide_type": "slide"
    }
   },
   "source": [
    "<ul>In Python, everything is an object</ul>\n",
    "<ul>You can access an object's data and methods by using 'dot' operator</ul>"
   ]
  },
  {
   "cell_type": "markdown",
   "id": "d669fcdf",
   "metadata": {
    "slideshow": {
     "slide_type": "slide"
    }
   },
   "source": [
    "<div class=\"alert alert-block alert-info\">\n",
    "<h3>Reference:</h3>\n",
    "    <h4>The Python Tutorials:</h4>\n",
    "    <ul>\n",
    "        <li><a \n",
    "          href=\"https://docs.python.org/3/tutorial/controlflow.html#defining-functions\"\n",
    "          target=\"_blank\">Defining functions\n",
    "         </a></li>\n",
    "        <li><a\n",
    "           href=\"https://docs.python.org/3/tutorial/controlflow.html#more-on-defining-functions\"\n",
    "           target=\"_blank\">More on defining functions\n",
    "        </a></li>\n",
    "    </ul>\n",
    "    \n",
    "</div>"
   ]
  },
  {
   "cell_type": "markdown",
   "id": "71586104",
   "metadata": {
    "slideshow": {
     "slide_type": "slide"
    }
   },
   "source": [
    "<div class=\"alert alert-block alert-info\">\n",
    "    <h3>Prerequisites</h3>\n",
    "    <ul>\n",
    "        <li>Variable assignment: <code><var>a</var> = 1</code></li>\n",
    "        <li>Built-in functions\n",
    "            <ul>\n",
    "                <li><code>max</code></li>\n",
    "                <li><code>min</code></li>\n",
    "                <li><code>next</code></li>\n",
    "                <li><code>print</code></li>\n",
    "                <li><code>round</code></li>\n",
    "                <li><code>sorted</code></li>\n",
    "            </ul>\n",
    "     </ul>\n",
    "        </div>\n"
   ]
  },
  {
   "cell_type": "markdown",
   "id": "3014a9d4",
   "metadata": {
    "slideshow": {
     "slide_type": "slide"
    }
   },
   "source": [
    "<div class=\"alert alert-block alert-info\">\n",
    "    <h3>Prerequisites</h3>\n",
    "    <ul>\n",
    "        <li>Operators</li>\n",
    "        <ul>\n",
    "            <li>Mathematical: <code>+ - * / **  </code></li>\n",
    "            <li>Logical: <code>&gt &lt == !=  </code></li>\n",
    "        </ul>\n",
    "        <li>Collections: \n",
    "            <ul>\n",
    "                <li><code>list</code></li>\n",
    "                <li><code>tuple</code></li>\n",
    "                <li><code>set</code></li>\n",
    "                <li><code>dict</code></li>\n",
    "            </ul>\n",
    "        </li>\n",
    "     </ul>\n",
    "        </div>\n"
   ]
  },
  {
   "cell_type": "markdown",
   "id": "5a42f92a",
   "metadata": {
    "slideshow": {
     "slide_type": "slide"
    }
   },
   "source": [
    "<div class=\"alert alert-block alert-info\">\n",
    "<h3>Function Definition: An Example Using Psudeocode</h3>\n",
    "<block>\n",
    "    <h3>A function to read an existing file</h3>\n",
    "    <p><code><b>DEFINITION &lt;&lt; <em>name:</em> read \n",
    "             <em>input:</em> file, location\n",
    "             <em>output:</em> content &gt;&gt; :</b></code></p>\n",
    "        <p>&emsp; &emsp;<code><b>open</b> <em>file</em></code></p>\n",
    "        <p>&emsp; &emsp;<code><b>copy</b> <em>content </em>from <em>file</em></code></p>\n",
    "        <p>&emsp; &emsp;<code><b>close</b> <em>file</em></code></p>\n",
    "        <p>&emsp; &emsp;<code><b>return</b> <em>content</em></code></p>\n",
    "</block>\n",
    "</div>"
   ]
  },
  {
   "cell_type": "markdown",
   "id": "095ca9ee",
   "metadata": {
    "slideshow": {
     "slide_type": "slide"
    }
   },
   "source": [
    "<div class=\"alert alert-block alert-info\">\n",
    "<h3>Activity:</h3>\n",
    "    <h4> Define a function for one of the operations below using psudeocode.</h4>\n",
    "    <h5>Time: 5 minutes</h5>\n",
    "<ul>\n",
    "    <li><code>Create a new file</code></li>\n",
    "    <li><code><del>Read an existing file </del> </code></li>\n",
    "    <li><code>Update an existing file by appending a given content  </code> </li>\n",
    "    <li><code>Delete an existing file</code></li>\n",
    "</ul>\n",
    "    </div>"
   ]
  },
  {
   "cell_type": "markdown",
   "id": "957a6dc5",
   "metadata": {
    "slideshow": {
     "slide_type": "slide"
    }
   },
   "source": [
    "<div class=\"alert alert-block alert-info\">\n",
    "<h3>Defining a function</h3>\n",
    "    <ul>\n",
    "    <li> function name</li>\n",
    "    <li> input parameters</li>\n",
    "    <li> return value</li>\n",
    "    </ul>\n",
    "    <br>\n",
    "    <code><b>def</b> <i>function_name</i><b> ( </b><i>input_1, input_2, ... input_n</i><b> ) </b>:</code><br>\n",
    "    <code>&nbsp;&nbsp;&nbsp;&nbsp;# 4-space indent</code><br>\n",
    "    <code>&nbsp;&nbsp;&nbsp;&nbsp;# some useful operation</code><br>\n",
    "    <code>&nbsp;&nbsp;&nbsp;&nbsp;<b>return</b> <i>output</i></code>  \n",
    "</div>\n"
   ]
  },
  {
   "cell_type": "markdown",
   "id": "5feba846",
   "metadata": {
    "slideshow": {
     "slide_type": "slide"
    }
   },
   "source": [
    "<div class=\"alert alert-block alert-info\">\n",
    "    <h3> Activity: parse a function. </h3>\n",
    "    <h5> Time: 3 minutes</h5>\n",
    "    <br>\n",
    "<block>\n",
    "    <code><b>def</b> double_it(a):</code><br>\n",
    "    <code>&nbsp;&nbsp;&nbsp;&nbsp;out = 2 * a</code><br>\n",
    "    <code>&nbsp;&nbsp;&nbsp;&nbsp;<b>return</b> out</code><br>\n",
    "<ul>\n",
    "    <li>In the function definition above, what is the function name and input parameter name?</li>\n",
    "    <li>Will the code below work?\n",
    "        <ul><li>\n",
    "            <code><b>def</b> double_it(a):</code><br>\n",
    "        <code>&nbsp;&nbsp;&nbsp;&nbsp;<b>return</b> 2 * a</code> \n",
    "        </li>\n",
    "        </ul></li>\n",
    "</ul>\n",
    "    </block>\n",
    "</div>"
   ]
  },
  {
   "cell_type": "markdown",
   "id": "c5056835",
   "metadata": {
    "slideshow": {
     "slide_type": "slide"
    }
   },
   "source": [
    "<div class=\"alert alert-block alert-info\">\n",
    "    <h3>Using a function</h3>\n",
    "    <block>\n",
    "        <h4>Function's output as a value:</h4>\n",
    "        <ul>\n",
    "            <li><code><var>a_variable</var> = a_function(<var>input_value</var>)</code></li>\n",
    "            <li><code>another_function( a_function(<var>input_value</var>) )</code></li>\n",
    "        </ul>\n",
    "     </block>\n",
    "    \n",
    "</div>\n"
   ]
  },
  {
   "cell_type": "markdown",
   "id": "3ea13a84",
   "metadata": {
    "slideshow": {
     "slide_type": "slide"
    }
   },
   "source": [
    "<div class=\"alert alert-block alert-info\">\n",
    "    <h3>Using a function</h3>\n",
    "    <block>\n",
    "        <h4>Function itself as a value:</h4><br>\n",
    "        <code>&gt&gt&gt abs(10)</code><br>\n",
    "        <samp>10</samp><br>\n",
    "        <code>&gt&gt&gt abs(-10)</code><br>\n",
    "        <samp>10</samp><br>\n",
    "        <code>&gt&gt&gt a_list = [1, 4, 3, 2, -5, -10]</code><br>\n",
    "        <code>&gt&gt&gt sorted(a_list)</code><br>\n",
    "        <samp>[-10, -5, 1, 2, 3, 4]</samp><br>\n",
    "        <code>&gt&gt&gt sorted(a_list, key=abs)</code><br>\n",
    "        <samp>[1, 2, 3, 4, -5, -10]</samp><br>\n",
    "     </block>\n",
    "</div>\n"
   ]
  },
  {
   "cell_type": "markdown",
   "id": "1a08ceab",
   "metadata": {
    "slideshow": {
     "slide_type": "slide"
    }
   },
   "source": [
    "<div class='alert alert-block alert-info'>\n",
    "    <h3> Deep Dive into Functions</h3> \n",
    "    <ul>\n",
    "            <li><b>Function name:</b>\n",
    "                <ul>\n",
    "            <li>named vs. anonymous functions</li>\n",
    "                </ul>\n",
    "        </li>\n",
    "        <li><b>Input parameters:</b>\n",
    "            <ul>\n",
    "            <li>standard (position or keyword), position-only, keyword-only</li>\n",
    "            <li>variable-length arguments</li>\n",
    "            </ul>\n",
    "        </li>\n",
    "        <li><b>Function scope</b></li>\n",
    "        <li><b>Output values:</b>\n",
    "            <ul>\n",
    "                <li>None</li>\n",
    "                <li>a function</li>\n",
    "                <li>arbitary value</li>\n",
    "            </ul>\n",
    "        </li>\n",
    "    </ul>\n",
    "    </div>"
   ]
  },
  {
   "cell_type": "code",
   "execution_count": 15,
   "id": "19ad0cfd",
   "metadata": {},
   "outputs": [
    {
     "data": {
      "text/plain": [
       "9"
      ]
     },
     "execution_count": 15,
     "metadata": {},
     "output_type": "execute_result"
    }
   ],
   "source": [
    "(lambda x, y: x**y)(3, 2)"
   ]
  },
  {
   "cell_type": "code",
   "execution_count": 9,
   "id": "406604d2",
   "metadata": {},
   "outputs": [
    {
     "data": {
      "text/plain": [
       "1"
      ]
     },
     "execution_count": 9,
     "metadata": {},
     "output_type": "execute_result"
    }
   ],
   "source": [
    ">>> a_list = [1, 4, 3, 2, -5, -10]\n",
    ">>> min(a_list, key=abs)"
   ]
  },
  {
   "cell_type": "markdown",
   "id": "180c4a1b",
   "metadata": {
    "slideshow": {
     "slide_type": "slide"
    }
   },
   "source": [
    "<p><samp>This text is meant to be treated as sample output from a computer program.</samp></p>\n",
    "<p>To switch directories, type <kbd>cd</kbd> followed by the name of the directory.<br></p>\n",
    "<p>To edit settings, press <kbd><kbd>ctrl</kbd> + <kbd>,</kbd></kbd></p>\n",
    "<p><var>y</var> = <var>m</var><var>x</var> + <var>b</var></p>"
   ]
  },
  {
   "cell_type": "code",
   "execution_count": 18,
   "id": "ba3d6d47",
   "metadata": {},
   "outputs": [
    {
     "data": {
      "text/plain": [
       "[1, 2, 3, 4]"
      ]
     },
     "execution_count": 18,
     "metadata": {},
     "output_type": "execute_result"
    }
   ],
   "source": [
    "def myfunc(*nums):\n",
    "    return [num//2 for num in nums if num %2==0]\n",
    "myfunc(1,2,3,4,5,6,7,8)"
   ]
  },
  {
   "cell_type": "code",
   "execution_count": 1,
   "id": "1a9f5eb0",
   "metadata": {},
   "outputs": [],
   "source": [
    "?sorted"
   ]
  },
  {
   "cell_type": "markdown",
   "id": "9fde4e38",
   "metadata": {},
   "source": [
    "### Closure"
   ]
  },
  {
   "cell_type": "code",
   "execution_count": 33,
   "id": "8ae3c34b",
   "metadata": {},
   "outputs": [],
   "source": [
    "def countdown(t):\n",
    "    count = t\n",
    "    def out():\n",
    "        nonlocal count\n",
    "        if count>0:\n",
    "            print(count)\n",
    "            count=count-1\n",
    "        else:\n",
    "            print('done')\n",
    "    return out\n",
    "twocount = countdown(2)\n",
    "fivecount = countdown(5)\n"
   ]
  },
  {
   "cell_type": "code",
   "execution_count": 2,
   "id": "799b76a8",
   "metadata": {},
   "outputs": [
    {
     "data": {
      "text/plain": [
       "4"
      ]
     },
     "execution_count": 2,
     "metadata": {},
     "output_type": "execute_result"
    }
   ],
   "source": [
    "def countdown_1 ( t ):\n",
    "    return (t-i for i in range(t))\n",
    "\n",
    "fiver = countdown_1(5)\n",
    "next(fiver)\n",
    "next(fiver)"
   ]
  },
  {
   "cell_type": "code",
   "execution_count": 3,
   "id": "15fdba2a",
   "metadata": {},
   "outputs": [
    {
     "data": {
      "text/plain": [
       "3"
      ]
     },
     "execution_count": 3,
     "metadata": {},
     "output_type": "execute_result"
    }
   ],
   "source": [
    "next(fiver)"
   ]
  },
  {
   "cell_type": "code",
   "execution_count": 34,
   "id": "9f6fc5e8",
   "metadata": {},
   "outputs": [
    {
     "name": "stdout",
     "output_type": "stream",
     "text": [
      "2\n",
      "1\n",
      "done\n"
     ]
    }
   ],
   "source": [
    "twocount()\n",
    "\n",
    "twocount()\n",
    "\n",
    "twocount()\n"
   ]
  },
  {
   "cell_type": "code",
   "execution_count": 35,
   "id": "05e14ec8",
   "metadata": {},
   "outputs": [
    {
     "name": "stdout",
     "output_type": "stream",
     "text": [
      "5\n",
      "4\n",
      "3\n",
      "2\n",
      "1\n",
      "done\n"
     ]
    }
   ],
   "source": [
    "fivecount()\n",
    "fivecount()\n",
    "fivecount()\n",
    "fivecount()\n",
    "fivecount()\n",
    "fivecount()"
   ]
  },
  {
   "cell_type": "markdown",
   "id": "0dafbafc",
   "metadata": {},
   "source": [
    "### Scope "
   ]
  },
  {
   "cell_type": "code",
   "execution_count": 1,
   "id": "60db104e",
   "metadata": {},
   "outputs": [
    {
     "name": "stdout",
     "output_type": "stream",
     "text": [
      "(400, ['hello'])\n",
      "20 []\n"
     ]
    }
   ],
   "source": [
    "val = 20\n",
    "aList = []\n",
    "def myfunc ():\n",
    "#     val = 30\n",
    "#     aList = 67\n",
    "#     aList.append('hello')\n",
    "    return val * 20, aList + ['hello']\n",
    "#     return val, aList\n",
    "\n",
    "print(myfunc())\n",
    "print(val, aList)\n"
   ]
  },
  {
   "cell_type": "markdown",
   "id": "299a7cf0",
   "metadata": {
    "slideshow": {
     "slide_type": "skip"
    }
   },
   "source": [
    "## What can you do at the end of this session?"
   ]
  },
  {
   "cell_type": "code",
   "execution_count": 7,
   "id": "bfd4145c",
   "metadata": {
    "slideshow": {
     "slide_type": "skip"
    }
   },
   "outputs": [],
   "source": [
    "print?"
   ]
  },
  {
   "cell_type": "markdown",
   "id": "93c43315",
   "metadata": {
    "slideshow": {
     "slide_type": "skip"
    }
   },
   "source": [
    "## What do you need to know before we start?"
   ]
  },
  {
   "cell_type": "code",
   "execution_count": null,
   "id": "976b8d44",
   "metadata": {
    "slideshow": {
     "slide_type": "skip"
    }
   },
   "outputs": [],
   "source": []
  }
 ],
 "metadata": {
  "celltoolbar": "Slideshow",
  "kernelspec": {
   "display_name": "Python 3 (ipykernel)",
   "language": "python",
   "name": "python3"
  },
  "language_info": {
   "codemirror_mode": {
    "name": "ipython",
    "version": 3
   },
   "file_extension": ".py",
   "mimetype": "text/x-python",
   "name": "python",
   "nbconvert_exporter": "python",
   "pygments_lexer": "ipython3",
   "version": "3.9.7"
  }
 },
 "nbformat": 4,
 "nbformat_minor": 5
}
